{
 "cells": [
  {
   "cell_type": "code",
   "execution_count": 2,
   "id": "initial_id",
   "metadata": {
    "collapsed": true,
    "ExecuteTime": {
     "end_time": "2024-01-01T15:32:34.052208100Z",
     "start_time": "2024-01-01T15:32:34.023205200Z"
    }
   },
   "outputs": [],
   "source": [
    "import numpy as np"
   ]
  },
  {
   "cell_type": "code",
   "execution_count": 3,
   "outputs": [],
   "source": [
    "v1 = np.array([2,5])"
   ],
   "metadata": {
    "collapsed": false,
    "ExecuteTime": {
     "end_time": "2024-01-01T15:33:08.301777600Z",
     "start_time": "2024-01-01T15:33:08.176600800Z"
    }
   },
   "id": "eb11d240acbd5c30"
  },
  {
   "cell_type": "code",
   "execution_count": 5,
   "outputs": [],
   "source": [
    "v2  = np.array([3,4])"
   ],
   "metadata": {
    "collapsed": false,
    "ExecuteTime": {
     "end_time": "2024-01-01T15:34:27.369926600Z",
     "start_time": "2024-01-01T15:34:27.268092700Z"
    }
   },
   "id": "6e0e6c31e43a9978"
  },
  {
   "cell_type": "code",
   "execution_count": 4,
   "outputs": [
    {
     "data": {
      "text/plain": "5.385164807134504"
     },
     "execution_count": 4,
     "metadata": {},
     "output_type": "execute_result"
    }
   ],
   "source": [
    "np.linalg.norm(v1)"
   ],
   "metadata": {
    "collapsed": false,
    "ExecuteTime": {
     "end_time": "2024-01-01T15:33:37.788010500Z",
     "start_time": "2024-01-01T15:33:37.573256300Z"
    }
   },
   "id": "23028d2377c0a177"
  },
  {
   "cell_type": "code",
   "execution_count": 6,
   "outputs": [
    {
     "data": {
      "text/plain": "5.0"
     },
     "execution_count": 6,
     "metadata": {},
     "output_type": "execute_result"
    }
   ],
   "source": [
    "np.linalg.norm(v2)"
   ],
   "metadata": {
    "collapsed": false,
    "ExecuteTime": {
     "end_time": "2024-01-01T15:34:40.396657700Z",
     "start_time": "2024-01-01T15:34:40.153043Z"
    }
   },
   "id": "1d1ef0903f287fad"
  },
  {
   "cell_type": "code",
   "execution_count": 7,
   "outputs": [
    {
     "data": {
      "text/plain": "26"
     },
     "execution_count": 7,
     "metadata": {},
     "output_type": "execute_result"
    }
   ],
   "source": [
    "v1@v2"
   ],
   "metadata": {
    "collapsed": false,
    "ExecuteTime": {
     "end_time": "2024-01-01T15:35:02.397447800Z",
     "start_time": "2024-01-01T15:35:02.254356Z"
    }
   },
   "id": "5fb0abdabbfbfefe"
  },
  {
   "cell_type": "code",
   "execution_count": 8,
   "outputs": [
    {
     "data": {
      "text/plain": "(2,)"
     },
     "execution_count": 8,
     "metadata": {},
     "output_type": "execute_result"
    }
   ],
   "source": [
    "v1.shape"
   ],
   "metadata": {
    "collapsed": false,
    "ExecuteTime": {
     "end_time": "2024-01-01T15:35:20.625534200Z",
     "start_time": "2024-01-01T15:35:20.568409200Z"
    }
   },
   "id": "a639ea2301bb9395"
  },
  {
   "cell_type": "code",
   "execution_count": 9,
   "outputs": [],
   "source": [
    "v3 = np.array([[2,3,4]])"
   ],
   "metadata": {
    "collapsed": false,
    "ExecuteTime": {
     "end_time": "2024-01-01T15:36:33.344545100Z",
     "start_time": "2024-01-01T15:36:33.314742900Z"
    }
   },
   "id": "6a4f270d22703725"
  },
  {
   "cell_type": "code",
   "execution_count": 10,
   "outputs": [],
   "source": [
    "v4 = np.array([[1],\n",
    "               [6],\n",
    "               [7]])"
   ],
   "metadata": {
    "collapsed": false,
    "ExecuteTime": {
     "end_time": "2024-01-01T15:37:02.350057200Z",
     "start_time": "2024-01-01T15:37:02.294884400Z"
    }
   },
   "id": "f43575aacf9b4584"
  },
  {
   "cell_type": "code",
   "execution_count": 11,
   "outputs": [
    {
     "data": {
      "text/plain": "(1, 3)"
     },
     "execution_count": 11,
     "metadata": {},
     "output_type": "execute_result"
    }
   ],
   "source": [
    "v3.shape"
   ],
   "metadata": {
    "collapsed": false,
    "ExecuteTime": {
     "end_time": "2024-01-01T15:37:22.388229900Z",
     "start_time": "2024-01-01T15:37:22.299444600Z"
    }
   },
   "id": "a994e7eb86f90829"
  },
  {
   "cell_type": "code",
   "execution_count": 12,
   "outputs": [
    {
     "data": {
      "text/plain": "array([[48]])"
     },
     "execution_count": 12,
     "metadata": {},
     "output_type": "execute_result"
    }
   ],
   "source": [
    "v3@v4"
   ],
   "metadata": {
    "collapsed": false,
    "ExecuteTime": {
     "end_time": "2024-01-01T15:37:32.377066800Z",
     "start_time": "2024-01-01T15:37:32.265361100Z"
    }
   },
   "id": "dc8c87d1fab65c96"
  },
  {
   "cell_type": "code",
   "execution_count": 13,
   "outputs": [],
   "source": [
    "v5 = np.array([[11],\n",
    "               [48],\n",
    "               [71]])"
   ],
   "metadata": {
    "collapsed": false,
    "ExecuteTime": {
     "end_time": "2024-01-01T15:38:38.357550600Z",
     "start_time": "2024-01-01T15:38:38.269997100Z"
    }
   },
   "id": "f79f58a333b13dfa"
  },
  {
   "cell_type": "code",
   "execution_count": 15,
   "outputs": [
    {
     "data": {
      "text/plain": "array([[796]])"
     },
     "execution_count": 15,
     "metadata": {},
     "output_type": "execute_result"
    }
   ],
   "source": [
    "v4.T@v5"
   ],
   "metadata": {
    "collapsed": false,
    "ExecuteTime": {
     "end_time": "2024-01-01T15:39:32.949946600Z",
     "start_time": "2024-01-01T15:39:32.896780800Z"
    }
   },
   "id": "cae7b56cda6cc328"
  },
  {
   "cell_type": "code",
   "execution_count": 16,
   "outputs": [],
   "source": [
    "B = np.array([[11],\n",
    "              [23]])"
   ],
   "metadata": {
    "collapsed": false,
    "ExecuteTime": {
     "end_time": "2024-01-01T15:42:23.454238900Z",
     "start_time": "2024-01-01T15:42:23.393503500Z"
    }
   },
   "id": "156b9a35fda0cda8"
  },
  {
   "cell_type": "code",
   "execution_count": 17,
   "outputs": [],
   "source": [
    "A = np.array([[2,4],\n",
    "              [-9,6]])"
   ],
   "metadata": {
    "collapsed": false,
    "ExecuteTime": {
     "end_time": "2024-01-01T15:43:01.792965Z",
     "start_time": "2024-01-01T15:43:01.692018900Z"
    }
   },
   "id": "f2e9df040fd857d4"
  },
  {
   "cell_type": "code",
   "execution_count": 18,
   "outputs": [],
   "source": [
    "Aug = np.concatenate((A,B), axis=1)"
   ],
   "metadata": {
    "collapsed": false,
    "ExecuteTime": {
     "end_time": "2024-01-01T15:43:36.669917500Z",
     "start_time": "2024-01-01T15:43:36.612472200Z"
    }
   },
   "id": "136a08c66c3594bb"
  },
  {
   "cell_type": "code",
   "execution_count": 19,
   "outputs": [
    {
     "data": {
      "text/plain": "array([[ 2,  4, 11],\n       [-9,  6, 23]])"
     },
     "execution_count": 19,
     "metadata": {},
     "output_type": "execute_result"
    }
   ],
   "source": [
    "Aug"
   ],
   "metadata": {
    "collapsed": false,
    "ExecuteTime": {
     "end_time": "2024-01-01T15:43:43.226852Z",
     "start_time": "2024-01-01T15:43:43.150319700Z"
    }
   },
   "id": "929e7e288696ad2e"
  },
  {
   "cell_type": "code",
   "execution_count": 20,
   "outputs": [],
   "source": [
    "import sympy as sm "
   ],
   "metadata": {
    "collapsed": false,
    "ExecuteTime": {
     "end_time": "2024-01-01T15:46:27.296905800Z",
     "start_time": "2024-01-01T15:46:26.061842800Z"
    }
   },
   "id": "88af41f87689d106"
  },
  {
   "cell_type": "code",
   "execution_count": 23,
   "outputs": [],
   "source": [
    "m = sm.Matrix(Aug)"
   ],
   "metadata": {
    "collapsed": false,
    "ExecuteTime": {
     "end_time": "2024-01-01T15:47:53.802405900Z",
     "start_time": "2024-01-01T15:47:53.767260100Z"
    }
   },
   "id": "6d4976b7bee94877"
  },
  {
   "cell_type": "code",
   "execution_count": 24,
   "outputs": [
    {
     "data": {
      "text/plain": "(Matrix([\n [1, 0, -13/24],\n [0, 1, 145/48]]),\n (0, 1))"
     },
     "execution_count": 24,
     "metadata": {},
     "output_type": "execute_result"
    }
   ],
   "source": [
    "m.rref()"
   ],
   "metadata": {
    "collapsed": false,
    "ExecuteTime": {
     "end_time": "2024-01-01T15:47:56.315489300Z",
     "start_time": "2024-01-01T15:47:56.238421400Z"
    }
   },
   "id": "f3c3574f88f4d424"
  },
  {
   "cell_type": "code",
   "execution_count": 25,
   "outputs": [],
   "source": [
    "# x -2y =1\n",
    "#3x - 6y = 3\n",
    "\n",
    "m2 = sm.Matrix([[1,-2,1],\n",
    "                [3,-6,3]])"
   ],
   "metadata": {
    "collapsed": false,
    "ExecuteTime": {
     "end_time": "2024-01-01T15:51:11.063200900Z",
     "start_time": "2024-01-01T15:51:11.016914400Z"
    }
   },
   "id": "e3ab7abbc9601b0c"
  },
  {
   "cell_type": "code",
   "execution_count": 27,
   "outputs": [
    {
     "data": {
      "text/plain": "(Matrix([\n [1, -2, 1],\n [0,  0, 0]]),\n (0,))"
     },
     "execution_count": 27,
     "metadata": {},
     "output_type": "execute_result"
    }
   ],
   "source": [
    "m2.rref()"
   ],
   "metadata": {
    "collapsed": false,
    "ExecuteTime": {
     "end_time": "2024-01-01T15:51:59.108067600Z",
     "start_time": "2024-01-01T15:51:59.052795Z"
    }
   },
   "id": "93db33c86e8b286c"
  },
  {
   "cell_type": "code",
   "execution_count": null,
   "outputs": [],
   "source": [],
   "metadata": {
    "collapsed": false
   },
   "id": "99885834cf79c861"
  }
 ],
 "metadata": {
  "kernelspec": {
   "display_name": "Python 3",
   "language": "python",
   "name": "python3"
  },
  "language_info": {
   "codemirror_mode": {
    "name": "ipython",
    "version": 2
   },
   "file_extension": ".py",
   "mimetype": "text/x-python",
   "name": "python",
   "nbconvert_exporter": "python",
   "pygments_lexer": "ipython2",
   "version": "2.7.6"
  }
 },
 "nbformat": 4,
 "nbformat_minor": 5
}
